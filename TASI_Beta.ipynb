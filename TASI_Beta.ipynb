{
 "cells": [
  {
   "cell_type": "code",
   "execution_count": 1,
   "id": "4b83d363-12f8-4277-89d0-08a06788eb49",
   "metadata": {
    "tags": []
   },
   "outputs": [],
   "source": [
    "# ===================================\n",
    "# By: Abdullah AlQasim\n",
    "# Twitter: @jalmood966\n",
    "# Email: jalmood966 [at] gmail\n",
    "# ===================================\n",
    "\n",
    "import datetime as dt\n",
    "import pandas as pd\n",
    "import numpy as np\n",
    "from scipy import stats\n",
    "from pandas_datareader import data as pdr\n",
    "import yfinance as yf\n",
    "\n",
    "from datetime import datetime\n"
   ]
  },
  {
   "cell_type": "code",
   "execution_count": 2,
   "id": "98fdecf0-fcce-4757-a8e9-d703a54bc556",
   "metadata": {
    "tags": []
   },
   "outputs": [
    {
     "data": {
      "text/plain": [
       "(datetime.datetime(2022, 1, 1, 0, 0), datetime.datetime(2023, 7, 24, 0, 0))"
      ]
     },
     "execution_count": 2,
     "metadata": {},
     "output_type": "execute_result"
    }
   ],
   "source": [
    "startdate = datetime(2022,1,1)\n",
    "enddate = datetime(2023,7,24)\n",
    "\n",
    "startdate, enddate"
   ]
  },
  {
   "cell_type": "code",
   "execution_count": 18,
   "id": "1f308332-f585-4a13-8c2c-bd3883b52e8c",
   "metadata": {
    "tags": []
   },
   "outputs": [
    {
     "data": {
      "text/plain": [
       "['1010.SR',\n",
       " '1020.SR',\n",
       " '1030.SR',\n",
       " '1050.SR',\n",
       " '1060.SR',\n",
       " '1080.SR',\n",
       " '1120.SR',\n",
       " '1140.SR',\n",
       " '1180.SR',\n",
       " '^TASI.SR']"
      ]
     },
     "execution_count": 18,
     "metadata": {},
     "output_type": "execute_result"
    }
   ],
   "source": [
    "stockList = ['1010', '1020', '1030','1050','1060','1080','1120','1140','1180','^TASI']\n",
    "stocks = [i + '.SR' for i in stockList]\n",
    "stocks"
   ]
  },
  {
   "cell_type": "code",
   "execution_count": 19,
   "id": "5667dd5f-380e-455d-a88d-a242cb6c7103",
   "metadata": {
    "tags": []
   },
   "outputs": [
    {
     "name": "stdout",
     "output_type": "stream",
     "text": [
      "[*********************100%***********************]  10 of 10 completed\n"
     ]
    }
   ],
   "source": [
    "yf.pdr_override()\n",
    "\n",
    "df = pdr.get_data_yahoo(stocks, start=startdate, end=enddate)\n"
   ]
  },
  {
   "cell_type": "code",
   "execution_count": null,
   "id": "17d37d60-64e0-492e-9316-ee1cb831aba3",
   "metadata": {
    "tags": []
   },
   "outputs": [],
   "source": [
    "df"
   ]
  },
  {
   "cell_type": "code",
   "execution_count": 22,
   "id": "71d94844-6654-4573-97cd-da1a3a61353b",
   "metadata": {
    "tags": []
   },
   "outputs": [
    {
     "data": {
      "text/html": [
       "<div>\n",
       "<style scoped>\n",
       "    .dataframe tbody tr th:only-of-type {\n",
       "        vertical-align: middle;\n",
       "    }\n",
       "\n",
       "    .dataframe tbody tr th {\n",
       "        vertical-align: top;\n",
       "    }\n",
       "\n",
       "    .dataframe thead th {\n",
       "        text-align: right;\n",
       "    }\n",
       "</style>\n",
       "<table border=\"1\" class=\"dataframe\">\n",
       "  <thead>\n",
       "    <tr style=\"text-align: right;\">\n",
       "      <th></th>\n",
       "      <th>1010.SR</th>\n",
       "      <th>1020.SR</th>\n",
       "      <th>1030.SR</th>\n",
       "      <th>1050.SR</th>\n",
       "      <th>1060.SR</th>\n",
       "      <th>1080.SR</th>\n",
       "      <th>1120.SR</th>\n",
       "      <th>1140.SR</th>\n",
       "      <th>1180.SR</th>\n",
       "      <th>^TASI.SR</th>\n",
       "    </tr>\n",
       "    <tr>\n",
       "      <th>Date</th>\n",
       "      <th></th>\n",
       "      <th></th>\n",
       "      <th></th>\n",
       "      <th></th>\n",
       "      <th></th>\n",
       "      <th></th>\n",
       "      <th></th>\n",
       "      <th></th>\n",
       "      <th></th>\n",
       "      <th></th>\n",
       "    </tr>\n",
       "  </thead>\n",
       "  <tbody>\n",
       "    <tr>\n",
       "      <th>2022-01-04</th>\n",
       "      <td>0.000000</td>\n",
       "      <td>0.021935</td>\n",
       "      <td>0.005018</td>\n",
       "      <td>-0.015006</td>\n",
       "      <td>0.005874</td>\n",
       "      <td>0.023238</td>\n",
       "      <td>0.000000</td>\n",
       "      <td>-0.042908</td>\n",
       "      <td>0.010566</td>\n",
       "      <td>0.002582</td>\n",
       "    </tr>\n",
       "    <tr>\n",
       "      <th>2022-01-05</th>\n",
       "      <td>0.012762</td>\n",
       "      <td>0.031070</td>\n",
       "      <td>0.019822</td>\n",
       "      <td>0.004310</td>\n",
       "      <td>0.007294</td>\n",
       "      <td>0.024312</td>\n",
       "      <td>-0.001402</td>\n",
       "      <td>0.009351</td>\n",
       "      <td>0.026668</td>\n",
       "      <td>0.008442</td>\n",
       "    </tr>\n",
       "    <tr>\n",
       "      <th>2022-01-06</th>\n",
       "      <td>0.005420</td>\n",
       "      <td>0.002864</td>\n",
       "      <td>0.013645</td>\n",
       "      <td>-0.008639</td>\n",
       "      <td>0.000000</td>\n",
       "      <td>0.000000</td>\n",
       "      <td>-0.001404</td>\n",
       "      <td>0.001034</td>\n",
       "      <td>-0.013245</td>\n",
       "      <td>-0.001973</td>\n",
       "    </tr>\n",
       "    <tr>\n",
       "      <th>2022-01-09</th>\n",
       "      <td>0.010753</td>\n",
       "      <td>0.033743</td>\n",
       "      <td>0.016323</td>\n",
       "      <td>0.018270</td>\n",
       "      <td>0.011561</td>\n",
       "      <td>0.014703</td>\n",
       "      <td>0.006998</td>\n",
       "      <td>0.018424</td>\n",
       "      <td>0.011782</td>\n",
       "      <td>0.011305</td>\n",
       "    </tr>\n",
       "    <tr>\n",
       "      <th>2022-01-10</th>\n",
       "      <td>0.014160</td>\n",
       "      <td>-0.013921</td>\n",
       "      <td>0.011364</td>\n",
       "      <td>-0.001066</td>\n",
       "      <td>0.044951</td>\n",
       "      <td>-0.009911</td>\n",
       "      <td>0.015225</td>\n",
       "      <td>0.008081</td>\n",
       "      <td>0.013091</td>\n",
       "      <td>0.008987</td>\n",
       "    </tr>\n",
       "  </tbody>\n",
       "</table>\n",
       "</div>"
      ],
      "text/plain": [
       "             1010.SR   1020.SR   1030.SR   1050.SR   1060.SR   1080.SR  \\\n",
       "Date                                                                     \n",
       "2022-01-04  0.000000  0.021935  0.005018 -0.015006  0.005874  0.023238   \n",
       "2022-01-05  0.012762  0.031070  0.019822  0.004310  0.007294  0.024312   \n",
       "2022-01-06  0.005420  0.002864  0.013645 -0.008639  0.000000  0.000000   \n",
       "2022-01-09  0.010753  0.033743  0.016323  0.018270  0.011561  0.014703   \n",
       "2022-01-10  0.014160 -0.013921  0.011364 -0.001066  0.044951 -0.009911   \n",
       "\n",
       "             1120.SR   1140.SR   1180.SR  ^TASI.SR  \n",
       "Date                                                \n",
       "2022-01-04  0.000000 -0.042908  0.010566  0.002582  \n",
       "2022-01-05 -0.001402  0.009351  0.026668  0.008442  \n",
       "2022-01-06 -0.001404  0.001034 -0.013245 -0.001973  \n",
       "2022-01-09  0.006998  0.018424  0.011782  0.011305  \n",
       "2022-01-10  0.015225  0.008081  0.013091  0.008987  "
      ]
     },
     "execution_count": 22,
     "metadata": {},
     "output_type": "execute_result"
    }
   ],
   "source": [
    "log_returns = np.log(df.Close / df.Close.shift(1)).dropna()\n",
    "log_returns.head()"
   ]
  },
  {
   "cell_type": "code",
   "execution_count": 44,
   "id": "61d3e24b-4e20-43ba-a04e-8634b04ab34a",
   "metadata": {
    "tags": []
   },
   "outputs": [
    {
     "data": {
      "text/plain": [
       "(383, 60)"
      ]
     },
     "execution_count": 44,
     "metadata": {},
     "output_type": "execute_result"
    }
   ],
   "source": [
    "np_array = df.values\n",
    "\n",
    "#print(np_array[:1])\n",
    "\n",
    "arr = np.array([[1, 2, 3, 4], [5, 6, 7, 8]])\n",
    "np_array.shape\n",
    "#print(arr.shape)\n"
   ]
  },
  {
   "cell_type": "code",
   "execution_count": null,
   "id": "b3dbd8a1-9fdf-4fd8-a829-a3ba7b469d1f",
   "metadata": {
    "tags": []
   },
   "outputs": [],
   "source": [
    "def calc_beta(df):\n",
    "    np_array = df.values\n",
    "    # Market index is the first column 0\n",
    "    m = np_array[:,0] \n",
    "    beta = []\n",
    "    for ind, col in enumerate(df):\n",
    "        if ind > 0:\n",
    "            # stock returns are indexed by ind\n",
    "            s = np_array[:,ind] \n",
    "            # Calculate covariance matrix between stock and market\n",
    "            covariance = np.cov(s,m) \n",
    "            beta.append( covariance[0,1]/covariance[1,1] )\n",
    "    return pd.Series(beta, df.columns[1:], name='Beta')\n",
    "\n",
    "calc_beta(log_returns)"
   ]
  },
  {
   "cell_type": "code",
   "execution_count": null,
   "id": "3f8e867a-8305-45db-b278-5124c01025fd",
   "metadata": {},
   "outputs": [],
   "source": []
  }
 ],
 "metadata": {
  "kernelspec": {
   "display_name": "Python 3 (ipykernel)",
   "language": "python",
   "name": "python3"
  },
  "language_info": {
   "codemirror_mode": {
    "name": "ipython",
    "version": 3
   },
   "file_extension": ".py",
   "mimetype": "text/x-python",
   "name": "python",
   "nbconvert_exporter": "python",
   "pygments_lexer": "ipython3",
   "version": "3.10.10"
  }
 },
 "nbformat": 4,
 "nbformat_minor": 5
}
